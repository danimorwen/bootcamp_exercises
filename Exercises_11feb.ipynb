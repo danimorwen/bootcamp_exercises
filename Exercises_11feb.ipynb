{
  "nbformat": 4,
  "nbformat_minor": 0,
  "metadata": {
    "colab": {
      "name": "Exercises_11feb.ipynb",
      "provenance": [],
      "collapsed_sections": [],
      "authorship_tag": "ABX9TyN/71psD/7hYs/2VesevFRN"
    },
    "kernelspec": {
      "name": "python3",
      "display_name": "Python 3"
    },
    "language_info": {
      "name": "python"
    }
  },
  "cells": [
    {
      "cell_type": "markdown",
      "source": [
        "Imprima a tabuada do 1 ao 10"
      ],
      "metadata": {
        "id": "OxdGbh7KqQtN"
      }
    },
    {
      "cell_type": "code",
      "execution_count": 1,
      "metadata": {
        "colab": {
          "base_uri": "https://localhost:8080/"
        },
        "id": "gJXBZvB9qDia",
        "outputId": "15b581bb-8a18-42d2-e309-96ad09e28224"
      },
      "outputs": [
        {
          "output_type": "stream",
          "name": "stdout",
          "text": [
            "1\n",
            "2\n",
            "3\n",
            "4\n",
            "5\n",
            "6\n",
            "7\n",
            "8\n",
            "9\n",
            "10\n",
            "2\n",
            "4\n",
            "6\n",
            "8\n",
            "10\n",
            "12\n",
            "14\n",
            "16\n",
            "18\n",
            "20\n",
            "3\n",
            "6\n",
            "9\n",
            "12\n",
            "15\n",
            "18\n",
            "21\n",
            "24\n",
            "27\n",
            "30\n",
            "4\n",
            "8\n",
            "12\n",
            "16\n",
            "20\n",
            "24\n",
            "28\n",
            "32\n",
            "36\n",
            "40\n",
            "5\n",
            "10\n",
            "15\n",
            "20\n",
            "25\n",
            "30\n",
            "35\n",
            "40\n",
            "45\n",
            "50\n",
            "6\n",
            "12\n",
            "18\n",
            "24\n",
            "30\n",
            "36\n",
            "42\n",
            "48\n",
            "54\n",
            "60\n",
            "7\n",
            "14\n",
            "21\n",
            "28\n",
            "35\n",
            "42\n",
            "49\n",
            "56\n",
            "63\n",
            "70\n",
            "8\n",
            "16\n",
            "24\n",
            "32\n",
            "40\n",
            "48\n",
            "56\n",
            "64\n",
            "72\n",
            "80\n",
            "9\n",
            "18\n",
            "27\n",
            "36\n",
            "45\n",
            "54\n",
            "63\n",
            "72\n",
            "81\n",
            "90\n",
            "10\n",
            "20\n",
            "30\n",
            "40\n",
            "50\n",
            "60\n",
            "70\n",
            "80\n",
            "90\n",
            "100\n"
          ]
        }
      ],
      "source": [
        "for index in range(1,11):\n",
        "  for number in range(1,11):\n",
        "    print(number * index)"
      ]
    },
    {
      "cell_type": "markdown",
      "source": [
        "Considerando os números inteiros de 1 a 100, escreva um código que imprima somente os divisíveis por 3."
      ],
      "metadata": {
        "id": "s5WSxLDPugS8"
      }
    },
    {
      "cell_type": "code",
      "source": [
        "for x in range(1, 101):\n",
        "  if x % 3 == 0:\n",
        "    print(x)"
      ],
      "metadata": {
        "colab": {
          "base_uri": "https://localhost:8080/"
        },
        "id": "5BLE7-9ruNkJ",
        "outputId": "76953103-01bc-4c7b-eca7-08ea3d89280c"
      },
      "execution_count": 2,
      "outputs": [
        {
          "output_type": "stream",
          "name": "stdout",
          "text": [
            "3\n",
            "6\n",
            "9\n",
            "12\n",
            "15\n",
            "18\n",
            "21\n",
            "24\n",
            "27\n",
            "30\n",
            "33\n",
            "36\n",
            "39\n",
            "42\n",
            "45\n",
            "48\n",
            "51\n",
            "54\n",
            "57\n",
            "60\n",
            "63\n",
            "66\n",
            "69\n",
            "72\n",
            "75\n",
            "78\n",
            "81\n",
            "84\n",
            "87\n",
            "90\n",
            "93\n",
            "96\n",
            "99\n"
          ]
        }
      ]
    },
    {
      "cell_type": "markdown",
      "source": [
        "Imprima os seguintes números na forma abaixo:\n",
        "\n",
        "1 \n",
        "\n",
        "2 2 \n",
        "\n",
        "3 3 3 \n",
        "\n",
        "4 4 4 4 \n",
        "\n",
        "5 5 5 5 5"
      ],
      "metadata": {
        "id": "YMkbwqgGvr4E"
      }
    },
    {
      "cell_type": "code",
      "source": [
        "for num in range(1,6):\n",
        "  numbers = ''\n",
        "  for num2 in range(num):\n",
        "    numbers += str(num)\n",
        "  print(numbers)\n",
        "  "
      ],
      "metadata": {
        "colab": {
          "base_uri": "https://localhost:8080/"
        },
        "id": "KEoDc31ywdhk",
        "outputId": "aa0fe067-12e1-4615-dc7d-e03fe6f761df"
      },
      "execution_count": 3,
      "outputs": [
        {
          "output_type": "stream",
          "name": "stdout",
          "text": [
            "1\n",
            "22\n",
            "333\n",
            "4444\n",
            "55555\n"
          ]
        }
      ]
    },
    {
      "cell_type": "markdown",
      "source": [
        "Dadas as duas listas, crie uma nova que contenha os números impares da primeira e os números pares da segunda"
      ],
      "metadata": {
        "id": "0RiDKTuM0u9u"
      }
    },
    {
      "cell_type": "code",
      "source": [
        "lista_1 = [0, 4, 17, 8, 25, 6, 3, 99, 62, 7, 30, 71]\n",
        "lista_2 = [10, 11, 27, 18, 5, 62, 3, 94, 2, 7]\n",
        "lista_3 = []\n",
        "\n",
        "for num in lista_1:\n",
        "  if num % 2 != 0:\n",
        "    lista_3.append(num)\n",
        "\n",
        "for num in lista_2:\n",
        "  if num % 2 == 0:\n",
        "    lista_3.append(num)\n",
        "    \n",
        "print(lista_3)"
      ],
      "metadata": {
        "colab": {
          "base_uri": "https://localhost:8080/"
        },
        "id": "2Fhceuja069I",
        "outputId": "b60c6887-b05d-4599-e46d-6b337a37bfa3"
      },
      "execution_count": 4,
      "outputs": [
        {
          "output_type": "stream",
          "name": "stdout",
          "text": [
            "[17, 25, 3, 99, 7, 71, 10, 18, 62, 94, 2]\n"
          ]
        }
      ]
    },
    {
      "cell_type": "markdown",
      "source": [
        "Dados dois números inteiros, escreva um código que:\n",
        "\n",
        "* retorne com o produto dos numeros\n",
        "* se o produto for maior que 1000, retorne a soma\n",
        "* execute a tarefa acima para duas listas de números\n",
        "* execute as tarefas acima numa função\n",
        "\n",
        "\n"
      ],
      "metadata": {
        "id": "RYXbpieM4tDd"
      }
    },
    {
      "cell_type": "code",
      "source": [
        "def transform_to_list(num):\n",
        "  list_of_numbers = num\n",
        "  if type(num) is not list:\n",
        "    list_of_numbers = [num]\n",
        "  return list_of_numbers\n",
        "\n",
        "# This function equalize the lists' length \n",
        "def equalize_lists(list_1, list_2):\n",
        "  if len(list_1) == len(list_2):\n",
        "    return (list_1, list_2)\n",
        "\n",
        "  smaller_list = list_2\n",
        "  bigger_list = list_1\n",
        "  list_diff = (len(list_1) - len(list_2))\n",
        "  if list_diff < 0:\n",
        "    smaller_list = list_1\n",
        "    bigger_list = list_2\n",
        "  counter = 0\n",
        "  while counter < abs(list_diff):\n",
        "    smaller_list.append(smaller_list[counter])\n",
        "    counter += 1\n",
        "  return (smaller_list, bigger_list)\n",
        "\n",
        "def calculate_numbers(list_1, list_2):\n",
        "  list_of_numbers = list(zip(list_1, list_2))\n",
        "  result_list = []\n",
        "  for number_1, number_2 in list_of_numbers:\n",
        "    product = number_1 * number_2\n",
        "    if product > 1000:\n",
        "      result_list.append(number_1 + number_2)\n",
        "      continue\n",
        "    result_list.append(product)\n",
        "  return result_list\n",
        "\n",
        "def pipeline_calculate(num1, num2):\n",
        "  list_1 = transform_to_list(num1)\n",
        "  list_2 = transform_to_list(num2)\n",
        "  smaller_list, bigger_list = equalize_lists(list_1, list_2)\n",
        "  return calculate_numbers(smaller_list, bigger_list)\n",
        "\n",
        "print(pipeline_calculate([3,5], [4,2,9,8,7,6]))"
      ],
      "metadata": {
        "id": "6aWhSYiq6Tq9",
        "colab": {
          "base_uri": "https://localhost:8080/"
        },
        "outputId": "a57fb614-920f-4e9e-e2c1-3073e1924d9a"
      },
      "execution_count": 5,
      "outputs": [
        {
          "output_type": "stream",
          "name": "stdout",
          "text": [
            "[12, 10, 27, 40, 21, 30]\n"
          ]
        }
      ]
    }
  ]
}