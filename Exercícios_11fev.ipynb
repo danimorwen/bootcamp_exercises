{
  "nbformat": 4,
  "nbformat_minor": 0,
  "metadata": {
    "colab": {
      "name": "Exercícios_11fev.ipynb",
      "provenance": [],
      "authorship_tag": "ABX9TyOX4H9LMbq92WIP+JjoP82v"
    },
    "kernelspec": {
      "name": "python3",
      "display_name": "Python 3"
    },
    "language_info": {
      "name": "python"
    }
  },
  "cells": [
    {
      "cell_type": "markdown",
      "source": [
        "Imprima a tabuada do 1 ao 10"
      ],
      "metadata": {
        "id": "OxdGbh7KqQtN"
      }
    },
    {
      "cell_type": "code",
      "execution_count": 1,
      "metadata": {
        "colab": {
          "base_uri": "https://localhost:8080/"
        },
        "id": "gJXBZvB9qDia",
        "outputId": "8d2b322b-3254-4193-db45-d9e22eec54f2"
      },
      "outputs": [
        {
          "output_type": "stream",
          "name": "stdout",
          "text": [
            "1\n",
            "2\n",
            "3\n",
            "4\n",
            "5\n",
            "6\n",
            "7\n",
            "8\n",
            "9\n",
            "10\n",
            "2\n",
            "4\n",
            "6\n",
            "8\n",
            "10\n",
            "12\n",
            "14\n",
            "16\n",
            "18\n",
            "20\n",
            "3\n",
            "6\n",
            "9\n",
            "12\n",
            "15\n",
            "18\n",
            "21\n",
            "24\n",
            "27\n",
            "30\n",
            "4\n",
            "8\n",
            "12\n",
            "16\n",
            "20\n",
            "24\n",
            "28\n",
            "32\n",
            "36\n",
            "40\n",
            "5\n",
            "10\n",
            "15\n",
            "20\n",
            "25\n",
            "30\n",
            "35\n",
            "40\n",
            "45\n",
            "50\n",
            "6\n",
            "12\n",
            "18\n",
            "24\n",
            "30\n",
            "36\n",
            "42\n",
            "48\n",
            "54\n",
            "60\n",
            "7\n",
            "14\n",
            "21\n",
            "28\n",
            "35\n",
            "42\n",
            "49\n",
            "56\n",
            "63\n",
            "70\n",
            "8\n",
            "16\n",
            "24\n",
            "32\n",
            "40\n",
            "48\n",
            "56\n",
            "64\n",
            "72\n",
            "80\n",
            "9\n",
            "18\n",
            "27\n",
            "36\n",
            "45\n",
            "54\n",
            "63\n",
            "72\n",
            "81\n",
            "90\n",
            "10\n",
            "20\n",
            "30\n",
            "40\n",
            "50\n",
            "60\n",
            "70\n",
            "80\n",
            "90\n",
            "100\n"
          ]
        }
      ],
      "source": [
        "for index in range(1,11):\n",
        "  for number in range(1,11):\n",
        "    print(number * index)"
      ]
    },
    {
      "cell_type": "markdown",
      "source": [
        "Considerando os números inteiros de 1 a 100, escreva um código que imprima somente os divisíveis por 3."
      ],
      "metadata": {
        "id": "s5WSxLDPugS8"
      }
    },
    {
      "cell_type": "code",
      "source": [
        "for x in range(1, 101):\n",
        "  if x % 3 == 0:\n",
        "    print(x)"
      ],
      "metadata": {
        "colab": {
          "base_uri": "https://localhost:8080/"
        },
        "id": "5BLE7-9ruNkJ",
        "outputId": "ee13b88a-4764-4435-93d7-9d44b12caf90"
      },
      "execution_count": 2,
      "outputs": [
        {
          "output_type": "stream",
          "name": "stdout",
          "text": [
            "3\n",
            "6\n",
            "9\n",
            "12\n",
            "15\n",
            "18\n",
            "21\n",
            "24\n",
            "27\n",
            "30\n",
            "33\n",
            "36\n",
            "39\n",
            "42\n",
            "45\n",
            "48\n",
            "51\n",
            "54\n",
            "57\n",
            "60\n",
            "63\n",
            "66\n",
            "69\n",
            "72\n",
            "75\n",
            "78\n",
            "81\n",
            "84\n",
            "87\n",
            "90\n",
            "93\n",
            "96\n",
            "99\n"
          ]
        }
      ]
    },
    {
      "cell_type": "markdown",
      "source": [
        "Imprima os seguintes números na forma abaixo:\n",
        "\n",
        "1 \n",
        "\n",
        "2 2 \n",
        "\n",
        "3 3 3 \n",
        "\n",
        "4 4 4 4 \n",
        "\n",
        "5 5 5 5 5"
      ],
      "metadata": {
        "id": "YMkbwqgGvr4E"
      }
    },
    {
      "cell_type": "code",
      "source": [
        "for num in range(1,6):\n",
        "  numbers = ''\n",
        "  for num2 in range(num):\n",
        "    numbers += str(num)\n",
        "  print(numbers)\n",
        "  "
      ],
      "metadata": {
        "colab": {
          "base_uri": "https://localhost:8080/"
        },
        "id": "KEoDc31ywdhk",
        "outputId": "0a4dc877-7a78-45e0-a297-ee5d105b1280"
      },
      "execution_count": 3,
      "outputs": [
        {
          "output_type": "stream",
          "name": "stdout",
          "text": [
            "1\n",
            "22\n",
            "333\n",
            "4444\n",
            "55555\n"
          ]
        }
      ]
    },
    {
      "cell_type": "markdown",
      "source": [
        "Dadas as duas listas, crie uma nova que contenha os números impares da primeira e os números pares da segunda"
      ],
      "metadata": {
        "id": "0RiDKTuM0u9u"
      }
    },
    {
      "cell_type": "code",
      "source": [
        "lista_1 = [0, 4, 17, 8, 25, 6, 3, 99, 62, 7, 30, 71]\n",
        "lista_2 = [10, 11, 27, 18, 5, 62, 3, 94, 2, 7]\n",
        "lista_3 = []\n",
        "\n",
        "for num in lista_1:\n",
        "  if num % 2 != 0:\n",
        "    lista_3.append(num)\n",
        "\n",
        "for num in lista_2:\n",
        "  if num % 2 == 0:\n",
        "    lista_3.append(num)\n",
        "    \n",
        "print(lista_3)"
      ],
      "metadata": {
        "colab": {
          "base_uri": "https://localhost:8080/"
        },
        "id": "2Fhceuja069I",
        "outputId": "863b0cec-8919-47d3-ab53-1c9b86e75b41"
      },
      "execution_count": 4,
      "outputs": [
        {
          "output_type": "stream",
          "name": "stdout",
          "text": [
            "[17, 25, 3, 99, 7, 71, 10, 18, 62, 94, 2]\n"
          ]
        }
      ]
    },
    {
      "cell_type": "markdown",
      "source": [
        "Dados dois números inteiros, escreva um código que:\n",
        "\n",
        "* retorne com o produto dos numeros\n",
        "* se o produto for maior que 1000, retorne a soma\n",
        "* execute a tarefa acima para duas listas de números\n",
        "* execute as tarefas acima numa função\n",
        "\n",
        "\n"
      ],
      "metadata": {
        "id": "RYXbpieM4tDd"
      }
    },
    {
      "cell_type": "code",
      "source": [
        "def transform_to_list(num):\n",
        "  lista = num\n",
        "  if type(num) is not list:\n",
        "    lista = [num]\n",
        "  return lista\n",
        "\n",
        "def calculate_numbers(num1, num2):\n",
        "  lista1 = transform_to_list(num1)\n",
        "  lista2 = transform_to_list(num2)\n",
        "  list_of_numbers = list(zip(lista1, lista2))\n",
        "  for number1, number2 in list_of_numbers:\n",
        "    product = number1 * number2\n",
        "    if product > 1000:\n",
        "      return number1 + number2\n",
        "  return product"
      ],
      "metadata": {
        "id": "6aWhSYiq6Tq9"
      },
      "execution_count": 5,
      "outputs": []
    }
  ]
}