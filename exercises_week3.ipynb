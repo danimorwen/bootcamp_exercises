{
 "cells": [
  {
   "cell_type": "markdown",
   "metadata": {
    "colab_type": "text",
    "id": "view-in-github"
   },
   "source": [
    "<a href=\"https://colab.research.google.com/github/CharlesPrado23/Notebooks/blob/main/Semana3_Exerc%C3%ADcios.ipynb\" target=\"_parent\"><img src=\"https://colab.research.google.com/assets/colab-badge.svg\" alt=\"Open In Colab\"/></a>"
   ]
  },
  {
   "cell_type": "markdown",
   "metadata": {
    "id": "VASoC4nNmAI9"
   },
   "source": [
    "## Semana 3 \n",
    "## Exercícios (FOR, IF, WHILE) "
   ]
  },
  {
   "cell_type": "markdown",
   "metadata": {
    "id": "wqFIo-c2mOYV"
   },
   "source": [
    "1) Dado a lista, abaixo, de temperaturas da cidade de Boulder em Fahrenheit (F):\n",
    "\n",
    " 1.1) Crie uma lista convertendo para Celsius (C). Para converter use a fórmula C = (F-32)*(5/9); Print os valores na tela. \n",
    " \n",
    " 1.2) Crie uma função que receba a lista de temperaturas em Fahrenheit e retorna uma lista em graus Celsius. Print a lista na tela. \n",
    "\n",
    " 1.3) **(Desafio)** Generalize a função criada em 1.2 usando *args para que a função receba uma lista de tamanho variável.\n",
    " \n",
    "\n",
    " F = [47,49,57,64,72,83,89,87,79,67,55,47]; (Temperaturas em F da cidade de Boulder)"
   ]
  },
  {
   "cell_type": "code",
   "execution_count": 1,
   "metadata": {
    "id": "FV8HxHPN8sbU"
   },
   "outputs": [
    {
     "data": {
      "text/plain": [
       "[8, 9, 14, 18, 22, 28, 32, 31, 26, 19, 13, 8]"
      ]
     },
     "execution_count": 1,
     "metadata": {},
     "output_type": "execute_result"
    }
   ],
   "source": [
    "F = [47,49,57,64,72,83,89,87,79,67,55,47]\n",
    "celsius_list = []\n",
    "for temp in F:\n",
    "    temp_celsius = (temp - 32) * (5/9)\n",
    "    celsius_list.append(round(temp_celsius))\n",
    "celsius_list"
   ]
  },
  {
   "cell_type": "code",
   "execution_count": 2,
   "metadata": {},
   "outputs": [
    {
     "name": "stdout",
     "output_type": "stream",
     "text": [
      "[8, 9, 14, 18, 22, 28, 32, 31, 26, 19, 13, 8]\n"
     ]
    }
   ],
   "source": [
    "def convert_to_celsius():\n",
    "    F = [47,49,57,64,72,83,89,87,79,67,55,47]\n",
    "    celsius_list = []\n",
    "    for temp in F:\n",
    "        temp_celsius = (temp - 32) * (5/9)\n",
    "        celsius_list.append(round(temp_celsius))\n",
    "    return celsius_list\n",
    "\n",
    "print(convert_to_celsius())"
   ]
  },
  {
   "cell_type": "code",
   "execution_count": 3,
   "metadata": {},
   "outputs": [
    {
     "name": "stdout",
     "output_type": "stream",
     "text": [
      "[8, 9, 14, 18, 22, 28, 32, 31, 26, 19, 13, 8]\n"
     ]
    }
   ],
   "source": [
    "def convert_to_celsius(fahrenheit_list):\n",
    "    celsius_list = []\n",
    "    for temp in fahrenheit_list:\n",
    "        temp_celsius = (temp - 32) * (5/9)\n",
    "        celsius_list.append(round(temp_celsius))\n",
    "    return celsius_list\n",
    "\n",
    "print(convert_to_celsius(F))"
   ]
  },
  {
   "cell_type": "markdown",
   "metadata": {
    "id": "ClQPuqarsW9_"
   },
   "source": [
    "2)Passe por todos os números até 99 (começando em 1). Imprima 'fizz' para cada número que é divisível por 7, imprima 'buzz' para cada número divisível por 5 e imprima 'fizzbuzz' para cada número divisível por 7 e 5! Se o número não for divisível por 7 ou 5, imprima um travessão (‘-‘)! \n",
    "\n",
    " Para descubrir se um número x é divisível por y use operador (%): \n",
    "\n",
    "    x % y retorna True se x é divísel por y, False se não for. \n",
    "\n",
    "Dica : use  FOR , IF, ELIF, ELSE \n",
    "   "
   ]
  },
  {
   "cell_type": "code",
   "execution_count": 4,
   "metadata": {},
   "outputs": [
    {
     "name": "stdout",
     "output_type": "stream",
     "text": [
      "-\n",
      "-\n",
      "-\n",
      "-\n",
      "buzz\n",
      "-\n",
      "fizz\n",
      "-\n",
      "-\n",
      "buzz\n",
      "-\n",
      "-\n",
      "-\n",
      "fizz\n",
      "buzz\n",
      "-\n",
      "-\n",
      "-\n",
      "-\n",
      "buzz\n",
      "fizz\n",
      "-\n",
      "-\n",
      "-\n",
      "buzz\n",
      "-\n",
      "-\n",
      "fizz\n",
      "-\n",
      "buzz\n",
      "-\n",
      "-\n",
      "-\n",
      "-\n",
      "fizzbuzz\n",
      "-\n",
      "-\n",
      "-\n",
      "-\n",
      "buzz\n",
      "-\n",
      "fizz\n",
      "-\n",
      "-\n",
      "buzz\n",
      "-\n",
      "-\n",
      "-\n",
      "fizz\n",
      "buzz\n",
      "-\n",
      "-\n",
      "-\n",
      "-\n",
      "buzz\n",
      "fizz\n",
      "-\n",
      "-\n",
      "-\n",
      "buzz\n",
      "-\n",
      "-\n",
      "fizz\n",
      "-\n",
      "buzz\n",
      "-\n",
      "-\n",
      "-\n",
      "-\n",
      "fizzbuzz\n",
      "-\n",
      "-\n",
      "-\n",
      "-\n",
      "buzz\n",
      "-\n",
      "fizz\n",
      "-\n",
      "-\n",
      "buzz\n",
      "-\n",
      "-\n",
      "-\n",
      "fizz\n",
      "buzz\n",
      "-\n",
      "-\n",
      "-\n",
      "-\n",
      "buzz\n",
      "fizz\n",
      "-\n",
      "-\n",
      "-\n",
      "buzz\n",
      "-\n",
      "-\n",
      "fizz\n",
      "-\n"
     ]
    }
   ],
   "source": [
    "for number in range(1,100):\n",
    "    if number % 7 == 0 and number % 5 == 0:\n",
    "        print(\"fizzbuzz\")\n",
    "    elif number % 7 == 0:\n",
    "        print(\"fizz\")\n",
    "    elif number % 5 == 0:\n",
    "        print(\"buzz\")\n",
    "    else:\n",
    "        print(\"-\")"
   ]
  },
  {
   "cell_type": "markdown",
   "metadata": {
    "id": "pE2jEaxFnsJ8"
   },
   "source": [
    "3) Os filmes/séries podem ser classificados conforme o seu genero (ação,comédia, drama, terror etc). Considerando as classificações abaixo: \n",
    "\n",
    "   a) Ação = Jumanji, Projeto Gemini,The old guard,WandaVision.\n",
    "\n",
    "   b) Comédia = Jumanji,How I Met Your Mother,Friends, Amigos para sempre.\n",
    "\n",
    "   c)  Drama = Amigos para sempre, After,Game of Thrones, WandaVision.\n",
    "\n",
    " Tarefas: \n",
    "\n",
    "   3.1 - Cria uma lista de listas para representar cada um dos conjuntos acima. \n",
    "\n",
    "   3.2 - Usando a lista criada em 3.1, escreva um programa que \"print\" na tela a quantidade de caracteres de cada título.    "
   ]
  },
  {
   "cell_type": "code",
   "execution_count": 5,
   "metadata": {},
   "outputs": [
    {
     "name": "stdout",
     "output_type": "stream",
     "text": [
      "7\n",
      "14\n",
      "13\n",
      "11\n",
      "7\n",
      "21\n",
      "7\n",
      "18\n",
      "18\n",
      "5\n",
      "15\n",
      "11\n"
     ]
    }
   ],
   "source": [
    "list_of_genres = [[\"Jumanji\", \"Projeto Gemini\", \"The old guard\", \"WandaVision\"], \n",
    "[\"Jumanji\", \"How I met your mother\", \"Friends\", \"Amigos para Sempre\"], \n",
    "[\"Amigos para sempre\", \"After\", \"Game of Thrones\", \"WandaVision\"]]\n",
    "\n",
    "def show_characters(list_of_lists):\n",
    "    for list in list_of_lists:\n",
    "        for title in list:\n",
    "            print((len(title)))\n",
    "\n",
    "show_characters(list_of_genres)"
   ]
  },
  {
   "cell_type": "markdown",
   "metadata": {
    "id": "rqdZUmi2vTJt"
   },
   "source": [
    "4) Escreva um programa que calcule o fatorial de um número (entre com o número usando input). Sabendo que: \n",
    "\n",
    "  a) n! = n*(n-1)*(n-2)*...*1 \n",
    "\n",
    "  b) 1! = 1\n",
    "\n",
    "  c) 0! = 1\n",
    "  \n",
    "  Dica: Use While  "
   ]
  },
  {
   "cell_type": "code",
   "execution_count": 6,
   "metadata": {},
   "outputs": [
    {
     "data": {
      "text/plain": [
       "720"
      ]
     },
     "execution_count": 6,
     "metadata": {},
     "output_type": "execute_result"
    }
   ],
   "source": [
    "def calculate_factorial(number):\n",
    "    counter = 1\n",
    "    factorial = 1\n",
    "    if number == 0:\n",
    "        return 1\n",
    "    while counter <= number:\n",
    "        factorial = factorial * counter\n",
    "        counter += 1\n",
    "    return factorial\n",
    "\n",
    "calculate_factorial(int(input()))"
   ]
  },
  {
   "cell_type": "markdown",
   "metadata": {
    "id": "uCYFCuBvsIN8"
   },
   "source": [
    "**5) Desafio**\n",
    "\n",
    "Considerando o problema 3): \n",
    "\n",
    " 5.1) Crie um dicionário no qual cada chave representa o genero do filme; \n",
    "\n",
    " 5.2) Em um sistema de recomendação baseado em conteúdos, deseja-se saber as classificações (generos) de cada filme. Faça um programa que usando o dicionário criado em 5.1, retorne os generos associados a cada filme. (Dica: use um outro dicionário).\n"
   ]
  },
  {
   "cell_type": "code",
   "execution_count": 7,
   "metadata": {
    "id": "2ALomF0a8AjE"
   },
   "outputs": [
    {
     "data": {
      "text/plain": [
       "{'Jumanji': ['Action', 'Comedy'],\n",
       " 'Projeto Gemini': ['Action'],\n",
       " 'The old guard': ['Action'],\n",
       " 'WandaVision': ['Action', 'Drama'],\n",
       " 'How I met your mother': ['Comedy'],\n",
       " 'Friends': ['Comedy'],\n",
       " 'Amigos para Sempre': ['Comedy'],\n",
       " 'Amigos para sempre': ['Drama'],\n",
       " 'After': ['Drama'],\n",
       " 'Game of Thrones': ['Drama']}"
      ]
     },
     "execution_count": 7,
     "metadata": {},
     "output_type": "execute_result"
    }
   ],
   "source": [
    "dict_movies = {\"Action\": [\"Jumanji\", \"Projeto Gemini\", \"The old guard\", \"WandaVision\"], \n",
    "\"Comedy\": [\"Jumanji\", \"How I met your mother\", \"Friends\", \"Amigos para Sempre\"], \n",
    "\"Drama\": [\"Amigos para sempre\", \"After\", \"Game of Thrones\", \"WandaVision\"]}\n",
    "\n",
    "def build_dict():\n",
    "    dict_genres = {}\n",
    "    for movies_key, movies in dict_movies.items():\n",
    "        for movie in movies:\n",
    "            if movie in dict_genres:\n",
    "                dict_genres[movie].append(movies_key)\n",
    "            else:\n",
    "                dict_genres[movie] = [movies_key]\n",
    "    return dict_genres\n",
    "\n",
    "build_dict()"
   ]
  },
  {
   "cell_type": "markdown",
   "metadata": {
    "id": "bCw260L9Iv1S"
   },
   "source": [
    "## Exercícios de Class (Retirado do Livro - Python Crash Course)\n",
    " \n",
    " 1)\n",
    "\n",
    "(a) Make a class called User. \n",
    "\n",
    "(b) Create two attributes called first_name and last_name, and then create several other attributes that are typically stored in a user profile. \n",
    "\n",
    "(c) Make a method called describe_user() that prints a summary of the user’s information. \n",
    "\n",
    "(d) Make another method called greet_user() that prints a personalized greeting to the user."
   ]
  },
  {
   "cell_type": "code",
   "execution_count": 8,
   "metadata": {},
   "outputs": [
    {
     "name": "stdout",
     "output_type": "stream",
     "text": [
      "\n",
      "        First Name: Maria\n",
      "        Last Name: Pereira\n",
      "        Age: 30\n",
      "        Gender: female\n",
      "        City: Paris\n",
      "        Country: France\n",
      "        \n",
      "Hello, Maria! \n"
     ]
    }
   ],
   "source": [
    "class User:\n",
    "    def __init__(self, first_name, last_name, age, gender, city, country):\n",
    "        self.first_name = first_name\n",
    "        self.last_name = last_name\n",
    "        self.age = age\n",
    "        self.gender = gender\n",
    "        self.city = city\n",
    "        self.country = country\n",
    "\n",
    "    def describe_user(self):\n",
    "        print(f\"\"\"\n",
    "        First Name: {self.first_name}\n",
    "        Last Name: {self.last_name}\n",
    "        Age: {self.age}\n",
    "        Gender: {self.gender}\n",
    "        City: {self.city}\n",
    "        Country: {self.country}\n",
    "        \"\"\")\n",
    "    def greet_user(self):\n",
    "        print(f\"Hello, {self.first_name}! \")\n",
    "\n",
    "\n",
    "\n",
    "user1 = User(\"Maria\", \"Pereira\", 30, \"female\", \"Paris\", \"France\")\n",
    "user1.describe_user()\n",
    "user1.greet_user()"
   ]
  },
  {
   "cell_type": "markdown",
   "metadata": {
    "id": "901N8ev5I3ZZ"
   },
   "source": [
    "2)\n",
    "\n",
    "(a) Add an attribute called login_attempts to your User class from Exercise. \n",
    "\n",
    "(b) Write a method called increment_login_attempts() that increments the value of login_attempts by 1. \n",
    "\n",
    "(c) Write another method called reset_login_attempts() that resets the value of login_attempts to 0.\n",
    "\n",
    "(d) Make an instance of the User class and call increment_login_attempts() several times. \n",
    "\n",
    "(e) Print the value of login_attempts to make sure it was incremented properly, and then call reset_login_attempts(). \n",
    "\n",
    "(f) Print login_attempts again to make sure it was reset to 0."
   ]
  },
  {
   "cell_type": "code",
   "execution_count": 9,
   "metadata": {},
   "outputs": [
    {
     "name": "stdout",
     "output_type": "stream",
     "text": [
      "5\n",
      "0\n"
     ]
    }
   ],
   "source": [
    "class User:\n",
    "    def __init__(self, first_name, last_name, age, gender, city, country, login_attempts):\n",
    "        self.first_name = first_name\n",
    "        self.last_name = last_name\n",
    "        self.age = age\n",
    "        self.gender = gender\n",
    "        self.city = city\n",
    "        self.country = country\n",
    "        self.login_attempts = login_attempts\n",
    "\n",
    "    def describe_user(self):\n",
    "        print(f\"\"\"\n",
    "        First Name: {self.first_name}\n",
    "        Last Name: {self.last_name}\n",
    "        Age: {self.age}\n",
    "        Gender: {self.gender}\n",
    "        City: {self.city}\n",
    "        Country: {self.country}\n",
    "        \"\"\")\n",
    "    def greet_user(self):\n",
    "        print(f\"Hello, {self.first_name}! \")\n",
    "\n",
    "    def increment_login_attempts(self):\n",
    "        self.login_attempts += 1\n",
    "    \n",
    "    def reset_login_attempts(self):\n",
    "        self.login_attempts = 0\n",
    "    \n",
    "user2 = User(\"John\", \"Doe\", 45, \"male\", \"New York\", \"USA\", 1)\n",
    "user2.increment_login_attempts()\n",
    "user2.increment_login_attempts()\n",
    "user2.increment_login_attempts()\n",
    "user2.increment_login_attempts()\n",
    "print(user2.login_attempts)\n",
    "user2.reset_login_attempts()\n",
    "print(user2.login_attempts)\n"
   ]
  },
  {
   "cell_type": "markdown",
   "metadata": {
    "id": "7O8TiJDoI_71"
   },
   "source": [
    "3)\n",
    "\n",
    "Admin: An administrator is a special kind of user. \n",
    "(a) Write a class called Admin that inherits from the User class you wrote .\n",
    "\n",
    "(b) Add an attribute, privileges, that stores a list of strings like \"can add post\", \"can delete post\", \"can ban user\", and so on.\n",
    "\n",
    "(C) Write a method called show_privileges() that lists the administrator’s set of privileges.\n",
    "\n",
    "(d) Create an instance of Admin, and call your method."
   ]
  },
  {
   "cell_type": "code",
   "execution_count": 10,
   "metadata": {},
   "outputs": [],
   "source": [
    "class Admin(User):\n",
    "    def __init__(self, first_name, last_name, age, gender, city, country, login_attempts, privileges):\n",
    "        User.__init__(self, first_name, last_name, age, gender, city, country, login_attempts)\n",
    "        self.privileges = privileges\n",
    "    \n",
    "#method show_privilege() was moved to class Privilege \n",
    "        \n",
    "admin = Admin(\"Marco\", \"Antonio\", 35, \"male\", \"Roma\", \"Italy\", 0, [\"can add post\", \"can delete post\", \"can reset passwords\", \"can ban user\"])"
   ]
  },
  {
   "cell_type": "markdown",
   "metadata": {
    "id": "E4P2Qk_TJHRE"
   },
   "source": [
    "4)\n",
    "\n",
    "(a) Write a separate Privileges class. The class should have one attribute, privileges, that stores a list of strings as described in previous Exercise.\n",
    "\n",
    "(b) Move the show_privileges() method to this class."
   ]
  },
  {
   "cell_type": "code",
   "execution_count": 11,
   "metadata": {},
   "outputs": [],
   "source": [
    "class Privileges:\n",
    "    def __init__(self, privileges):\n",
    "        self.privileges = privileges\n",
    "    \n",
    "    def show_privileges(self):\n",
    "        print(\"Admin privileges: \" + str(self.privileges))"
   ]
  },
  {
   "cell_type": "markdown",
   "metadata": {
    "id": "wiOQCnMUJMoa"
   },
   "source": [
    "\n",
    "5)\n",
    "\n",
    "(a) Make a Privileges instance as an attribute in the Admin class.\n",
    "\n",
    "(b) Create a new instance of Admin and use your method to show its privileges."
   ]
  },
  {
   "cell_type": "code",
   "execution_count": 12,
   "metadata": {},
   "outputs": [],
   "source": [
    "privileges = Privileges([\"can add post\", \"can ban user\", \"can reset passwords\", \"can delete post\"])\n",
    "\n",
    "admin2 = Admin(\"Kara\", \"Kent\", 25, \"female\", \"Metropolis\", \"USA\", 0, privileges)"
   ]
  }
 ],
 "metadata": {
  "colab": {
   "authorship_tag": "ABX9TyP6SPY7fNj9LI23GJAdnUbr",
   "collapsed_sections": [],
   "include_colab_link": true,
   "name": "Semana3_Exercícios.ipynb",
   "provenance": []
  },
  "kernelspec": {
   "display_name": "Python 3",
   "language": "python",
   "name": "python3"
  },
  "language_info": {
   "codemirror_mode": {
    "name": "ipython",
    "version": 3
   },
   "file_extension": ".py",
   "mimetype": "text/x-python",
   "name": "python",
   "nbconvert_exporter": "python",
   "pygments_lexer": "ipython3",
   "version": "3.9.7"
  }
 },
 "nbformat": 4,
 "nbformat_minor": 4
}
